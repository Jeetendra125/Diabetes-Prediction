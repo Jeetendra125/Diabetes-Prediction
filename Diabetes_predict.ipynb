{
  "cells": [
    {
      "cell_type": "code",
      "execution_count": null,
      "id": "2b95e2b2",
      "metadata": {
        "scrolled": true,
        "id": "2b95e2b2",
        "outputId": "81c0da90-f49b-4ef1-df5a-cbdc033785c8"
      },
      "outputs": [
        {
          "data": {
            "text/html": [
              "<div>\n",
              "<style scoped>\n",
              "    .dataframe tbody tr th:only-of-type {\n",
              "        vertical-align: middle;\n",
              "    }\n",
              "\n",
              "    .dataframe tbody tr th {\n",
              "        vertical-align: top;\n",
              "    }\n",
              "\n",
              "    .dataframe thead th {\n",
              "        text-align: right;\n",
              "    }\n",
              "</style>\n",
              "<table border=\"1\" class=\"dataframe\">\n",
              "  <thead>\n",
              "    <tr style=\"text-align: right;\">\n",
              "      <th></th>\n",
              "      <th>Pregnancies</th>\n",
              "      <th>Glucose</th>\n",
              "      <th>BloodPressure</th>\n",
              "      <th>SkinThickness</th>\n",
              "      <th>Insulin</th>\n",
              "      <th>BMI</th>\n",
              "      <th>DiabetesPedigreeFunction</th>\n",
              "      <th>Age</th>\n",
              "      <th>Outcome</th>\n",
              "    </tr>\n",
              "  </thead>\n",
              "  <tbody>\n",
              "    <tr>\n",
              "      <th>0</th>\n",
              "      <td>6</td>\n",
              "      <td>148</td>\n",
              "      <td>72</td>\n",
              "      <td>35</td>\n",
              "      <td>0</td>\n",
              "      <td>33.6</td>\n",
              "      <td>0.627</td>\n",
              "      <td>50</td>\n",
              "      <td>1</td>\n",
              "    </tr>\n",
              "    <tr>\n",
              "      <th>1</th>\n",
              "      <td>1</td>\n",
              "      <td>85</td>\n",
              "      <td>66</td>\n",
              "      <td>29</td>\n",
              "      <td>0</td>\n",
              "      <td>26.6</td>\n",
              "      <td>0.351</td>\n",
              "      <td>31</td>\n",
              "      <td>0</td>\n",
              "    </tr>\n",
              "    <tr>\n",
              "      <th>2</th>\n",
              "      <td>8</td>\n",
              "      <td>183</td>\n",
              "      <td>64</td>\n",
              "      <td>0</td>\n",
              "      <td>0</td>\n",
              "      <td>23.3</td>\n",
              "      <td>0.672</td>\n",
              "      <td>32</td>\n",
              "      <td>1</td>\n",
              "    </tr>\n",
              "    <tr>\n",
              "      <th>3</th>\n",
              "      <td>1</td>\n",
              "      <td>89</td>\n",
              "      <td>66</td>\n",
              "      <td>23</td>\n",
              "      <td>94</td>\n",
              "      <td>28.1</td>\n",
              "      <td>0.167</td>\n",
              "      <td>21</td>\n",
              "      <td>0</td>\n",
              "    </tr>\n",
              "    <tr>\n",
              "      <th>4</th>\n",
              "      <td>0</td>\n",
              "      <td>137</td>\n",
              "      <td>40</td>\n",
              "      <td>35</td>\n",
              "      <td>168</td>\n",
              "      <td>43.1</td>\n",
              "      <td>2.288</td>\n",
              "      <td>33</td>\n",
              "      <td>1</td>\n",
              "    </tr>\n",
              "  </tbody>\n",
              "</table>\n",
              "</div>"
            ],
            "text/plain": [
              "   Pregnancies  Glucose  BloodPressure  SkinThickness  Insulin   BMI  \\\n",
              "0            6      148             72             35        0  33.6   \n",
              "1            1       85             66             29        0  26.6   \n",
              "2            8      183             64              0        0  23.3   \n",
              "3            1       89             66             23       94  28.1   \n",
              "4            0      137             40             35      168  43.1   \n",
              "\n",
              "   DiabetesPedigreeFunction  Age  Outcome  \n",
              "0                     0.627   50        1  \n",
              "1                     0.351   31        0  \n",
              "2                     0.672   32        1  \n",
              "3                     0.167   21        0  \n",
              "4                     2.288   33        1  "
            ]
          },
          "execution_count": 3,
          "metadata": {},
          "output_type": "execute_result"
        }
      ],
      "source": [
        "import pandas as pd\n",
        "import numpy as np\n",
        "from matplotlib import pyplot as plt\n",
        "%matplotlib inline\n",
        "from sklearn import linear_model\n",
        "df = pd.read_csv('diabetes2.csv')\n",
        "df.head()"
      ]
    },
    {
      "cell_type": "code",
      "execution_count": null,
      "id": "99ead8ee",
      "metadata": {
        "id": "99ead8ee",
        "outputId": "0495838c-8cf0-419f-a770-6b349c915706"
      },
      "outputs": [
        {
          "data": {
            "text/plain": [
              "(768, 9)"
            ]
          },
          "execution_count": 4,
          "metadata": {},
          "output_type": "execute_result"
        }
      ],
      "source": [
        "df.shape\n"
      ]
    },
    {
      "cell_type": "code",
      "execution_count": null,
      "id": "cbefe059",
      "metadata": {
        "id": "cbefe059",
        "outputId": "7ad801a3-29b7-462c-b513-792403f64521"
      },
      "outputs": [
        {
          "data": {
            "text/plain": [
              "Pregnancies                 0\n",
              "Glucose                     0\n",
              "BloodPressure               0\n",
              "SkinThickness               0\n",
              "Insulin                     0\n",
              "BMI                         0\n",
              "DiabetesPedigreeFunction    0\n",
              "Age                         0\n",
              "Outcome                     0\n",
              "dtype: int64"
            ]
          },
          "execution_count": 7,
          "metadata": {},
          "output_type": "execute_result"
        }
      ],
      "source": [
        "#check the null value in the data set\n",
        "df.isna().sum()"
      ]
    },
    {
      "cell_type": "code",
      "execution_count": null,
      "id": "4e7f5116",
      "metadata": {
        "id": "4e7f5116",
        "outputId": "dd1e8caf-aa78-425f-e7ff-8f096a989146"
      },
      "outputs": [
        {
          "name": "stdout",
          "output_type": "stream",
          "text": [
            "<class 'pandas.core.frame.DataFrame'>\n",
            "RangeIndex: 768 entries, 0 to 767\n",
            "Data columns (total 9 columns):\n",
            " #   Column                    Non-Null Count  Dtype  \n",
            "---  ------                    --------------  -----  \n",
            " 0   Pregnancies               768 non-null    int64  \n",
            " 1   Glucose                   768 non-null    int64  \n",
            " 2   BloodPressure             768 non-null    int64  \n",
            " 3   SkinThickness             768 non-null    int64  \n",
            " 4   Insulin                   768 non-null    int64  \n",
            " 5   BMI                       768 non-null    float64\n",
            " 6   DiabetesPedigreeFunction  768 non-null    float64\n",
            " 7   Age                       768 non-null    int64  \n",
            " 8   Outcome                   768 non-null    int64  \n",
            "dtypes: float64(2), int64(7)\n",
            "memory usage: 54.1 KB\n"
          ]
        }
      ],
      "source": [
        "#features information\n",
        "df.info()"
      ]
    },
    {
      "cell_type": "code",
      "execution_count": null,
      "id": "b462c468",
      "metadata": {
        "id": "b462c468",
        "outputId": "24dcd489-6f09-444e-a02a-36b1f415a922"
      },
      "outputs": [
        {
          "data": {
            "text/html": [
              "<div>\n",
              "<style scoped>\n",
              "    .dataframe tbody tr th:only-of-type {\n",
              "        vertical-align: middle;\n",
              "    }\n",
              "\n",
              "    .dataframe tbody tr th {\n",
              "        vertical-align: top;\n",
              "    }\n",
              "\n",
              "    .dataframe thead th {\n",
              "        text-align: right;\n",
              "    }\n",
              "</style>\n",
              "<table border=\"1\" class=\"dataframe\">\n",
              "  <thead>\n",
              "    <tr style=\"text-align: right;\">\n",
              "      <th></th>\n",
              "      <th>Pregnancies</th>\n",
              "      <th>Glucose</th>\n",
              "      <th>BloodPressure</th>\n",
              "      <th>SkinThickness</th>\n",
              "      <th>Insulin</th>\n",
              "      <th>BMI</th>\n",
              "      <th>DiabetesPedigreeFunction</th>\n",
              "      <th>Age</th>\n",
              "      <th>Outcome</th>\n",
              "    </tr>\n",
              "  </thead>\n",
              "  <tbody>\n",
              "    <tr>\n",
              "      <th>count</th>\n",
              "      <td>768.000000</td>\n",
              "      <td>768.000000</td>\n",
              "      <td>768.000000</td>\n",
              "      <td>768.000000</td>\n",
              "      <td>768.000000</td>\n",
              "      <td>768.000000</td>\n",
              "      <td>768.000000</td>\n",
              "      <td>768.000000</td>\n",
              "      <td>768.000000</td>\n",
              "    </tr>\n",
              "    <tr>\n",
              "      <th>mean</th>\n",
              "      <td>3.845052</td>\n",
              "      <td>120.894531</td>\n",
              "      <td>69.105469</td>\n",
              "      <td>20.536458</td>\n",
              "      <td>79.799479</td>\n",
              "      <td>31.992578</td>\n",
              "      <td>0.471876</td>\n",
              "      <td>33.240885</td>\n",
              "      <td>0.348958</td>\n",
              "    </tr>\n",
              "    <tr>\n",
              "      <th>std</th>\n",
              "      <td>3.369578</td>\n",
              "      <td>31.972618</td>\n",
              "      <td>19.355807</td>\n",
              "      <td>15.952218</td>\n",
              "      <td>115.244002</td>\n",
              "      <td>7.884160</td>\n",
              "      <td>0.331329</td>\n",
              "      <td>11.760232</td>\n",
              "      <td>0.476951</td>\n",
              "    </tr>\n",
              "    <tr>\n",
              "      <th>min</th>\n",
              "      <td>0.000000</td>\n",
              "      <td>0.000000</td>\n",
              "      <td>0.000000</td>\n",
              "      <td>0.000000</td>\n",
              "      <td>0.000000</td>\n",
              "      <td>0.000000</td>\n",
              "      <td>0.078000</td>\n",
              "      <td>21.000000</td>\n",
              "      <td>0.000000</td>\n",
              "    </tr>\n",
              "    <tr>\n",
              "      <th>25%</th>\n",
              "      <td>1.000000</td>\n",
              "      <td>99.000000</td>\n",
              "      <td>62.000000</td>\n",
              "      <td>0.000000</td>\n",
              "      <td>0.000000</td>\n",
              "      <td>27.300000</td>\n",
              "      <td>0.243750</td>\n",
              "      <td>24.000000</td>\n",
              "      <td>0.000000</td>\n",
              "    </tr>\n",
              "    <tr>\n",
              "      <th>50%</th>\n",
              "      <td>3.000000</td>\n",
              "      <td>117.000000</td>\n",
              "      <td>72.000000</td>\n",
              "      <td>23.000000</td>\n",
              "      <td>30.500000</td>\n",
              "      <td>32.000000</td>\n",
              "      <td>0.372500</td>\n",
              "      <td>29.000000</td>\n",
              "      <td>0.000000</td>\n",
              "    </tr>\n",
              "    <tr>\n",
              "      <th>75%</th>\n",
              "      <td>6.000000</td>\n",
              "      <td>140.250000</td>\n",
              "      <td>80.000000</td>\n",
              "      <td>32.000000</td>\n",
              "      <td>127.250000</td>\n",
              "      <td>36.600000</td>\n",
              "      <td>0.626250</td>\n",
              "      <td>41.000000</td>\n",
              "      <td>1.000000</td>\n",
              "    </tr>\n",
              "    <tr>\n",
              "      <th>max</th>\n",
              "      <td>17.000000</td>\n",
              "      <td>199.000000</td>\n",
              "      <td>122.000000</td>\n",
              "      <td>99.000000</td>\n",
              "      <td>846.000000</td>\n",
              "      <td>67.100000</td>\n",
              "      <td>2.420000</td>\n",
              "      <td>81.000000</td>\n",
              "      <td>1.000000</td>\n",
              "    </tr>\n",
              "  </tbody>\n",
              "</table>\n",
              "</div>"
            ],
            "text/plain": [
              "       Pregnancies     Glucose  BloodPressure  SkinThickness     Insulin  \\\n",
              "count   768.000000  768.000000     768.000000     768.000000  768.000000   \n",
              "mean      3.845052  120.894531      69.105469      20.536458   79.799479   \n",
              "std       3.369578   31.972618      19.355807      15.952218  115.244002   \n",
              "min       0.000000    0.000000       0.000000       0.000000    0.000000   \n",
              "25%       1.000000   99.000000      62.000000       0.000000    0.000000   \n",
              "50%       3.000000  117.000000      72.000000      23.000000   30.500000   \n",
              "75%       6.000000  140.250000      80.000000      32.000000  127.250000   \n",
              "max      17.000000  199.000000     122.000000      99.000000  846.000000   \n",
              "\n",
              "              BMI  DiabetesPedigreeFunction         Age     Outcome  \n",
              "count  768.000000                768.000000  768.000000  768.000000  \n",
              "mean    31.992578                  0.471876   33.240885    0.348958  \n",
              "std      7.884160                  0.331329   11.760232    0.476951  \n",
              "min      0.000000                  0.078000   21.000000    0.000000  \n",
              "25%     27.300000                  0.243750   24.000000    0.000000  \n",
              "50%     32.000000                  0.372500   29.000000    0.000000  \n",
              "75%     36.600000                  0.626250   41.000000    1.000000  \n",
              "max     67.100000                  2.420000   81.000000    1.000000  "
            ]
          },
          "execution_count": 6,
          "metadata": {},
          "output_type": "execute_result"
        }
      ],
      "source": [
        "#find the statitics of the data set\n",
        "df.describe()\n"
      ]
    },
    {
      "cell_type": "code",
      "execution_count": null,
      "id": "82712137",
      "metadata": {
        "id": "82712137",
        "outputId": "f66c2148-7a3f-4f66-c084-0b42cf719036"
      },
      "outputs": [
        {
          "data": {
            "text/plain": [
              "0    500\n",
              "1    268\n",
              "Name: Outcome, dtype: int64"
            ]
          },
          "execution_count": 18,
          "metadata": {},
          "output_type": "execute_result"
        }
      ],
      "source": [
        "df.Outcome.value_counts()"
      ]
    },
    {
      "cell_type": "code",
      "execution_count": null,
      "id": "5d12308a",
      "metadata": {
        "id": "5d12308a",
        "outputId": "e6892add-a359-4454-936b-d7d8780a1e15"
      },
      "outputs": [
        {
          "data": {
            "text/plain": [
              "{'whiskers': [<matplotlib.lines.Line2D at 0x15018e4bf40>,\n",
              "  <matplotlib.lines.Line2D at 0x15018e5a2e0>,\n",
              "  <matplotlib.lines.Line2D at 0x15018e69760>,\n",
              "  <matplotlib.lines.Line2D at 0x15018e69ac0>,\n",
              "  <matplotlib.lines.Line2D at 0x15018e74f40>,\n",
              "  <matplotlib.lines.Line2D at 0x15018e7f2e0>,\n",
              "  <matplotlib.lines.Line2D at 0x15018e8c760>,\n",
              "  <matplotlib.lines.Line2D at 0x15018e8cac0>,\n",
              "  <matplotlib.lines.Line2D at 0x15018e97f40>,\n",
              "  <matplotlib.lines.Line2D at 0x15018ea32e0>,\n",
              "  <matplotlib.lines.Line2D at 0x15018eb1760>,\n",
              "  <matplotlib.lines.Line2D at 0x15018eb1ac0>,\n",
              "  <matplotlib.lines.Line2D at 0x15018ebcf40>,\n",
              "  <matplotlib.lines.Line2D at 0x15018ec82e0>,\n",
              "  <matplotlib.lines.Line2D at 0x15018ed3760>,\n",
              "  <matplotlib.lines.Line2D at 0x15018ed3ac0>,\n",
              "  <matplotlib.lines.Line2D at 0x15018ee0f40>,\n",
              "  <matplotlib.lines.Line2D at 0x15018eeb2e0>],\n",
              " 'caps': [<matplotlib.lines.Line2D at 0x15018e5a640>,\n",
              "  <matplotlib.lines.Line2D at 0x15018e5a9a0>,\n",
              "  <matplotlib.lines.Line2D at 0x15018e69e20>,\n",
              "  <matplotlib.lines.Line2D at 0x15018e741c0>,\n",
              "  <matplotlib.lines.Line2D at 0x15018e7f640>,\n",
              "  <matplotlib.lines.Line2D at 0x15018e7f9a0>,\n",
              "  <matplotlib.lines.Line2D at 0x15018e8ce20>,\n",
              "  <matplotlib.lines.Line2D at 0x15018e971c0>,\n",
              "  <matplotlib.lines.Line2D at 0x15018ea3640>,\n",
              "  <matplotlib.lines.Line2D at 0x15018ea39a0>,\n",
              "  <matplotlib.lines.Line2D at 0x15018eb1e20>,\n",
              "  <matplotlib.lines.Line2D at 0x15018ebc1c0>,\n",
              "  <matplotlib.lines.Line2D at 0x15018ec8640>,\n",
              "  <matplotlib.lines.Line2D at 0x15018ec89a0>,\n",
              "  <matplotlib.lines.Line2D at 0x15018ed3e20>,\n",
              "  <matplotlib.lines.Line2D at 0x15018ee01c0>,\n",
              "  <matplotlib.lines.Line2D at 0x15018eeb640>,\n",
              "  <matplotlib.lines.Line2D at 0x15018eeb9a0>],\n",
              " 'boxes': [<matplotlib.lines.Line2D at 0x15018e4bbe0>,\n",
              "  <matplotlib.lines.Line2D at 0x15018e69400>,\n",
              "  <matplotlib.lines.Line2D at 0x15018e74be0>,\n",
              "  <matplotlib.lines.Line2D at 0x15018e8c400>,\n",
              "  <matplotlib.lines.Line2D at 0x15018e97be0>,\n",
              "  <matplotlib.lines.Line2D at 0x15018eb1400>,\n",
              "  <matplotlib.lines.Line2D at 0x15018ebcbe0>,\n",
              "  <matplotlib.lines.Line2D at 0x15018ed3400>,\n",
              "  <matplotlib.lines.Line2D at 0x15018ee0be0>],\n",
              " 'medians': [<matplotlib.lines.Line2D at 0x15018e5ad00>,\n",
              "  <matplotlib.lines.Line2D at 0x15018e74520>,\n",
              "  <matplotlib.lines.Line2D at 0x15018e7fd00>,\n",
              "  <matplotlib.lines.Line2D at 0x15018e97520>,\n",
              "  <matplotlib.lines.Line2D at 0x15018ea3d00>,\n",
              "  <matplotlib.lines.Line2D at 0x15018ebc520>,\n",
              "  <matplotlib.lines.Line2D at 0x15018ec8d00>,\n",
              "  <matplotlib.lines.Line2D at 0x15018ee0520>,\n",
              "  <matplotlib.lines.Line2D at 0x15018eebd00>],\n",
              " 'fliers': [<matplotlib.lines.Line2D at 0x15018e690a0>,\n",
              "  <matplotlib.lines.Line2D at 0x15018e74880>,\n",
              "  <matplotlib.lines.Line2D at 0x15018e8c0a0>,\n",
              "  <matplotlib.lines.Line2D at 0x15018e97880>,\n",
              "  <matplotlib.lines.Line2D at 0x15018eb10a0>,\n",
              "  <matplotlib.lines.Line2D at 0x15018ebc880>,\n",
              "  <matplotlib.lines.Line2D at 0x15018ed30a0>,\n",
              "  <matplotlib.lines.Line2D at 0x15018ee0880>,\n",
              "  <matplotlib.lines.Line2D at 0x15018ef90a0>],\n",
              " 'means': []}"
            ]
          },
          "execution_count": 23,
          "metadata": {},
          "output_type": "execute_result"
        },
        {
          "data": {
            "image/png": "[encoded data removed]",
            "text/plain": [
              "<Figure size 432x288 with 1 Axes>"
            ]
          },
          "metadata": {
            "needs_background": "light"
          },
          "output_type": "display_data"
        }
      ],
      "source": [
        "#check outliers in the data set\n",
        "plt.boxplot(df)\n",
        "\n"
      ]
    },
    {
      "cell_type": "code",
      "execution_count": null,
      "id": "74379a0f",
      "metadata": {
        "id": "74379a0f",
        "outputId": "9f1856cc-cc65-4f52-8132-b8539f7c2bf0"
      },
      "outputs": [
        {
          "data": {
            "text/plain": [
              "127.25"
            ]
          },
          "execution_count": 26,
          "metadata": {},
          "output_type": "execute_result"
        }
      ],
      "source": [
        "df['Insulin'].quantile(0.75)"
      ]
    },
    {
      "cell_type": "code",
      "execution_count": null,
      "id": "7cb80a61",
      "metadata": {
        "id": "7cb80a61",
        "outputId": "e66af0b5-46c3-4b8b-8a62-ec26f387eed6"
      },
      "outputs": [
        {
          "data": {
            "text/plain": [
              "(576, 9)"
            ]
          },
          "execution_count": 31,
          "metadata": {},
          "output_type": "execute_result"
        }
      ],
      "source": [
        "df.drop(index = df[df['Insulin'] >= 127.25].index, inplace = True)\n",
        "df.shape\n"
      ]
    },
    {
      "cell_type": "code",
      "execution_count": null,
      "id": "8c18474c",
      "metadata": {
        "id": "8c18474c"
      },
      "outputs": [],
      "source": [
        "from sklearn.model_selection import train_test_split"
      ]
    },
    {
      "cell_type": "code",
      "execution_count": null,
      "id": "f25e765e",
      "metadata": {
        "id": "f25e765e"
      },
      "outputs": [],
      "source": [
        "X_train, X_test, y_train, y_test = train_test_split(df[['Pregnancies','Glucose','BloodPressure', 'SkinThickness','Insulin','BMI','DiabetesPedigreeFunction','Age' ]], df.Outcome, test_size = 0.1)\n"
      ]
    },
    {
      "cell_type": "code",
      "execution_count": null,
      "id": "370b5a94",
      "metadata": {
        "id": "370b5a94",
        "outputId": "ec2e26c3-ee9e-45aa-8dd9-d8ccac4ec7b1"
      },
      "outputs": [
        {
          "data": {
            "text/plain": [
              "LogisticRegression()"
            ]
          },
          "execution_count": 35,
          "metadata": {},
          "output_type": "execute_result"
        }
      ],
      "source": [
        "model = linear_model.LogisticRegression()\n",
        "model.fit(X_train, y_train)"
      ]
    },
    {
      "cell_type": "code",
      "execution_count": null,
      "id": "4002aa95",
      "metadata": {
        "id": "4002aa95",
        "outputId": "1ffb2175-3539-494d-e422-92b09b42b51d"
      },
      "outputs": [
        {
          "data": {
            "text/plain": [
              "array([0, 1, 0, 0, 0, 0, 0, 0, 0, 0, 0, 0, 0, 0, 0, 0, 1, 1, 0, 0, 1, 0,\n",
              "       0, 0, 0, 1, 0, 0, 0, 0, 0, 1, 0, 1, 0, 0, 0, 0, 0, 0, 0, 0, 0, 0,\n",
              "       1, 0, 0, 0, 0, 0, 0, 0, 1, 0, 0, 0, 0, 0], dtype=int64)"
            ]
          },
          "execution_count": 36,
          "metadata": {},
          "output_type": "execute_result"
        }
      ],
      "source": [
        "model.predict(X_test)"
      ]
    },
    {
      "cell_type": "code",
      "execution_count": null,
      "id": "76d1f0d7",
      "metadata": {
        "id": "76d1f0d7",
        "outputId": "6055dffe-8a35-443c-fadf-df8aa2c6364a"
      },
      "outputs": [
        {
          "data": {
            "text/plain": [
              "0.8275862068965517"
            ]
          },
          "execution_count": 37,
          "metadata": {},
          "output_type": "execute_result"
        }
      ],
      "source": [
        "model.score(X_test, y_test)"
      ]
    },
    {
      "cell_type": "code",
      "execution_count": null,
      "id": "66628d2c",
      "metadata": {
        "id": "66628d2c"
      },
      "outputs": [],
      "source": []
    }
  ],
  "metadata": {
    "kernelspec": {
      "display_name": "Python 3",
      "language": "python",
      "name": "python3"
    },
    "language_info": {
      "codemirror_mode": {
        "name": "ipython",
        "version": 3
      },
      "file_extension": ".py",
      "mimetype": "text/x-python",
      "name": "python",
      "nbconvert_exporter": "python",
      "pygments_lexer": "ipython3",
      "version": "3.8.8"
    },
    "colab": {
      "provenance": []
    }
  },
  "nbformat": 4,
  "nbformat_minor": 5
}